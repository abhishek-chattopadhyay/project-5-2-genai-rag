{
 "cells": [
  {
   "cell_type": "markdown",
   "metadata": {},
   "source": [
    "# German Basic Laws Chatbot"
   ]
  },
  {
   "cell_type": "markdown",
   "metadata": {},
   "source": [
    "## Import all the libraries here"
   ]
  },
  {
   "cell_type": "code",
   "execution_count": 1,
   "metadata": {},
   "outputs": [],
   "source": [
    "import os\n",
    "from langchain.document_loaders import PyPDFLoader\n",
    "from langchain.text_splitter import CharacterTextSplitter\n",
    "from pypdf import PdfReader\n",
    "from langchain.embeddings import OpenAIEmbeddings\n",
    "from dotenv import load_dotenv\n",
    "from langchain.vectorstores import Chroma\n",
    "load_dotenv()\n",
    "import openai"
   ]
  },
  {
   "cell_type": "markdown",
   "metadata": {},
   "source": [
    "## Read the files"
   ]
  },
  {
   "cell_type": "markdown",
   "metadata": {},
   "source": [
    "**Document: The Basic Laws of the Federal Republic of Germany**\n",
    "- This document contains the basic laws of the Federal Republic of Germany.\n",
    "- It is an open source document.\n",
    "- Source: [German Bundestag](btg-bestellservice.de>tcpdf)"
   ]
  },
  {
   "cell_type": "code",
   "execution_count": 2,
   "metadata": {},
   "outputs": [
    {
     "name": "stdout",
     "output_type": "stream",
     "text": [
      "german_basic_law.pdf\n",
      "german_fiscal_law.pdf\n",
      "german_civil_law.pdf\n",
      "german_commercial_law.pdf\n",
      "german_criminal_law.pdf\n",
      "german_administrative_law.pdf\n",
      "german_employment_law.pdf\n",
      "german_family_law.pdf\n",
      "german_alcohol_law.pdf\n"
     ]
    }
   ],
   "source": [
    "document_dir = \"../data\"\n",
    "file_names = os.listdir(document_dir)\n",
    "\n",
    "# read the files and put them into strings\n",
    "text = \"\"\n",
    "for file in file_names:\n",
    "    file_path = os.path.join(document_dir, file)\n",
    "    print(file)\n",
    "    reader = PdfReader(file_path)\n",
    "    for page in reader.pages:\n",
    "        text += page.extract_text() + \"\\n\""
   ]
  },
  {
   "cell_type": "code",
   "execution_count": 3,
   "metadata": {},
   "outputs": [
    {
     "data": {
      "text/plain": [
       "4554620"
      ]
     },
     "execution_count": 3,
     "metadata": {},
     "output_type": "execute_result"
    }
   ],
   "source": [
    "len(text)"
   ]
  },
  {
   "cell_type": "code",
   "execution_count": 4,
   "metadata": {},
   "outputs": [],
   "source": [
    "text_splitter = CharacterTextSplitter(\n",
    "    separator=\"\\n\",\n",
    "    chunk_size=1000,\n",
    "    chunk_overlap = 200\n",
    ")\n",
    "\n",
    "chunks = text_splitter.split_text(text)"
   ]
  },
  {
   "cell_type": "code",
   "execution_count": 5,
   "metadata": {},
   "outputs": [
    {
     "data": {
      "text/plain": [
       "5743"
      ]
     },
     "execution_count": 5,
     "metadata": {},
     "output_type": "execute_result"
    }
   ],
   "source": [
    "len(chunks)"
   ]
  },
  {
   "cell_type": "code",
   "execution_count": 6,
   "metadata": {},
   "outputs": [
    {
     "data": {
      "text/plain": [
       "['Basic Law \\nfor the Federal Republic \\nof Germany \\n23 May 1949 \\nLast amended on 19 December 2022\\nHerausgeber: Deutscher Bundestag,\\nReferat Öffentlichkeitsarbeit,\\nPlatz der Republik 1, 11011 Berlin\\nKoordination: Elmar Ostermann\\nPublished by: German Bundestag \\nPublic Relations Division \\nPlatz der Republik 1, 11011 Berlin \\nCoordination: Elmar Ostermann\\nTranslated by: Professor Christian Tomuschat, Professor David P. Currie, \\nProfessor Donald P. Kommers and Raymond Kerr, in cooperation with the \\nLanguage Service of the German Bundestag\\nDesign: Regelindis Westphal Grafik-Design,  \\nedited by wbv Media, Christiane Zay\\nBundestag eagle: Created by Professor Ludwig Gies,  \\nrevised in 2008 by büro uebele\\n© Deutscher Bundestag, Berlin, June 2024\\nAll rights reserved.\\nThis publication has been produced as part of the German Bundestag’s \\npublic relations activities. It is provided free of charge and is not intended \\nfor sale. It may not be used for election campaign purposes or utilised by',\n",
       " 'public relations activities. It is provided free of charge and is not intended \\nfor sale. It may not be used for election campaign purposes or utilised by \\nparties or parliamentary groups in their own public relations activities.\\nContents \\nPreamble 13 \\nI. Basic Rights 14 \\nArt. 1 [Human dignity – Human rights – Legally binding force \\nof basic rights] 15 \\nArt. 2 [Personal freedoms] 15 \\nArt. 3 [Equality before the law] 15 \\nArt. 4 [Freedom of faith and conscience] 15 \\nArt. 5 [Freedom of expression, arts and sciences] 16 \\nArt. 6 [Marriage – Family – Children] 16 \\nArt. 7 [School system] 17 \\nArt. 8 [Freedom of assembly] 17 \\nArt. 9 [Freedom of association] 18 \\nArt. 10 [Privacy of correspondence, posts and telecommunications] 18 \\nArt. 11 [Freedom of movement] 19 \\nArt. 12 [Occupational freedom] 19 \\nArt. 12a [Compulsory military and alternative civilian service] 19 \\nArt. 13 [Inviolability of the home] 21 \\nArt. 14 [Property – Inheritance – Expropriation] 22 \\nArt. 15 [Nationalisation] 22',\n",
       " 'Art. 12a [Compulsory military and alternative civilian service] 19 \\nArt. 13 [Inviolability of the home] 21 \\nArt. 14 [Property – Inheritance – Expropriation] 22 \\nArt. 15 [Nationalisation] 22 \\nArt. 16 [Citizenship – Extradition] 23 \\nArt. 16a [Right of asylum] 23 \\nArt. 17 [Right of petition] 24 \\nArt.  17a [Restriction of basic rights in specific instances]  24 \\nArt. 18 [Forfeiture of basic rights] 25 \\nArt. 19 [Restriction of basic rights – Legal remedies] 25 \\nII. The Federation and the Länder 26 \\nArt. 20 [Constitutional principles – Right of resistance] 27 \\nArt. 20a [Protection of the natural foundations of life and animals] 27 \\nArt. 21 [Political parties] 27 \\nArt. 22 [Federal capital ‒ Federal flag] 28 \\nArt. 23 [European Union – Protection of basic rights – Principle \\nof subsidiarity] 28 \\nArt. 24 [Transfer of sovereign powers – System of collective security] 30 \\nArt. 25 [Primacy of international law] 30 \\nArt. 26 [Securing international peace] 31 \\nArt. 27 [Merchant fleet] 31',\n",
       " 'Art. 24 [Transfer of sovereign powers – System of collective security] 30 \\nArt. 25 [Primacy of international law] 30 \\nArt. 26 [Securing international peace] 31 \\nArt. 27 [Merchant fleet] 31 \\nArt. 28 [Land constitutions – Autonomy of municipalities] 31 \\nArt. 29 [New delimitation of the federal territory] 32 \\nArt. 30 [Sovereign powers of the Länder] 34 \\nArt. 31 [Supremacy of federal law] 34 \\nArt. 32 [Foreign relations] 34 \\nArt. 35 [Legal and administrative assistance and assistance \\nduring disasters] 35 \\nArt. 33 [Equal citizenship – Public service] 34 \\nArt. 34 [Liability for violation of official duty] 35 \\nArt. 36 [Personnel of federal authorities] 36 \\nArt. 37 [Federal execution] 36 \\nIII. The Bundestag 37 \\nArt. 38 [Elections] 38 \\nArt. 39 [Electoral term – Convening] 38 \\nArt. 40 [Presidency – Rules of procedure] 38 \\nArt. 41 [Scrutiny of elections] 39 \\nArt. 42 [Public sittings – Majority decisions] 39 \\nArt. 43 [Right to require presence, right of access and right to be heard] 39',\n",
       " 'Art. 41 [Scrutiny of elections] 39 \\nArt. 42 [Public sittings – Majority decisions] 39 \\nArt. 43 [Right to require presence, right of access and right to be heard] 39 \\nArt. 44 [Committees of inquiry] 39 \\nArt. 45 [Committee on the European Union] 40 \\nArt. 45a [Committees on Foreign Affairs and Defence] 40 \\nArt. 45b [Parliamentary Commissioner for the Armed Forces] 40 \\nArt. 45c [Petitions Committee] 41 \\nArt. 45d Parliamentary Oversight Panel 41 \\nArt. 46 [Immunities of Members] 41 \\nArt. 47 [Right of refusal to give evidence] 41 \\nArt. 48 [Candidature – Protection of membership – Remuneration] 43 \\nArt. 49 (repealed) 42 \\nIV. The Bundesrat 43 \\nArt. 50 [Functions] 44 \\nArt. 51 [Composition – Weighted voting] 44 \\nArt. 52 [President – Decisions – Rules of procedure] 44 \\nArt. 53 [Attendance of members of the Federal Government] 45 \\nIVa. The Joint Committee 46 \\nArt. 53a [Composition – Rules of procedure] 47 \\nV. The Federal President 48 \\nArt. 54 [Election ‒ Term of office] 49',\n",
       " 'IVa. The Joint Committee 46 \\nArt. 53a [Composition – Rules of procedure] 47 \\nV. The Federal President 48 \\nArt. 54 [Election ‒ Term of office] 49 \\nArt. 55 [Incompatibilities] 49 \\nArt. 56 [Oath of office] 50 \\nArt. 57 [Substitution] 50 \\nArt. 58 [Countersignature] 50 \\nArt. 59 [International representation of the Federation] 50 \\n60 \\n65 \\n70 \\n75 \\n80 \\n85 \\nArt. 59a (repealed) 51 \\nArt. [Appointment of civil servants – Pardon – Immunity] 51 \\nArt. 61 [Impeachment before the Federal Constitutional Court] 51 \\nVI. The Federal Government 52 \\nArt. 62 [Composition] 53 \\nArt. 63 [Election of the Federal Chancellor] 53 \\nArt. 64 [Appointment and dismissal of Federal Ministers ‒ Oath of office] 53 \\nArt. [Power to determine policy guidelines – Department and \\ncollegiate responsibility] 54 \\nArt. 65a [Command of the Armed Forces] 54 \\nArt. 66 [Incompatibilities] 54 \\nArt. 67 [Vote of no confidence] 54 \\nArt. 68 [Vote of confidence] 55 \\nArt. 69 [Deputy Federal Chancellor ‒ Term of office] 55',\n",
       " 'Art. 65a [Command of the Armed Forces] 54 \\nArt. 66 [Incompatibilities] 54 \\nArt. 67 [Vote of no confidence] 54 \\nArt. 68 [Vote of confidence] 55 \\nArt. 69 [Deputy Federal Chancellor ‒ Term of office] 55 \\nVII. Federal Legislation and Legislative Procedures 56 \\nArt. [Division of powers between the Federation and the Länder] 57 \\nArt. 71 [Exclusive legislative power of the Federation] 57 \\nArt. 72 [Concurrent legislative powers] 57 \\nArt. 73 [Matters under exclusive legislative power of the Federation] 58 \\nArt. 74 [Matters under concurrent legislative powers] 60 \\nArt. 74a (repealed) 62 \\nArt. (repealed) 62 \\nArt. 76 [Bills] 62 \\nArt. 77 [Legislative procedure – Mediation Committee] 63 \\nArt. 78 [Passage of federal laws] 65 \\nArt. 79 [Amendment of the Basic Law] 65 \\nArt. [Issuance of statutory instruments] 65 \\nArt. 80a [State of tension] 66 \\nArt. 81 [Legislative emergency] 67 \\nArt. 82 [Certification ‒ Promulgation ‒ Entry into force] 68 \\nVIII. The Execution of Federal Laws and the Federal',\n",
       " 'Art. 80a [State of tension] 66 \\nArt. 81 [Legislative emergency] 67 \\nArt. 82 [Certification ‒ Promulgation ‒ Entry into force] 68 \\nVIII. The Execution of Federal Laws and the Federal\\nAdministration 69 \\nArt. 83 [Execution by the Länder] 70 \\nArt. 84 [Länder administration – Federal oversight] 70 \\nArt. [Execution by the Länder on federal commission] 71 \\nArt. 86 [Federal administration] 72 \\nArt. 87 [Matters] 72 \\nArt. 87a [Armed Forces] 73 \\nArt. 87b [Federal Defence Administration] 74 \\nArt. 87c [Production and utilisation of nuclear energy] 75 \\nArt. 87d [Air transport administration] 75 \\nArt. 87e [Rail transport administration] 75 \\nArt. 87f [Posts and telecommunications] 76 \\nArt. 88 [The Federal Bank – The European Central Bank] 76 \\nArt. 89 [Federal waterways – Administration of waterways] 77 \\nArt. 90 [Federal roads and motorways] 77 \\nArt. 91 [Internal emergency] 78 \\nVIIIa. Joint Tasks 79 \\nArt. 91a [Joint tasks – Responsibility for expenditure] 80',\n",
       " 'Art. 90 [Federal roads and motorways] 77 \\nArt. 91 [Internal emergency] 78 \\nVIIIa. Joint Tasks 79 \\nArt. 91a [Joint tasks – Responsibility for expenditure] 80 \\nArt. 91b [Education programmes and promotion of research] 80 \\nArt. 91c [Information technology systems] 81 \\nArt. 91d [Comparison of performance] 82 \\nArt. 91e [Cooperation in respect of basic support for persons  \\nseeking employment] 82 \\nIX. The Judiciary 83 \\nArt. 92 [Court organisation] 84 \\nArt. 93 [Jurisdiction of the Federal Constitutional Court] 84 \\nArt. 94 [Composition of the Federal Constitutional Court] 85 \\nArt. 95 [Supreme federal courts] 86 \\nArt. 96 [Other federal courts] 86 \\nArt. 97 [Judicial independence] 87 \\nArt. 98 [Legal status of judges – Impeachment] 87 \\nArt. 99 [Constitutional disputes within a Land] 88 \\nArt. 100 [Concrete judicial review] 88 \\nArt. 101 [Ban on extraordinary courts] 89 \\nArt. 102 [Abolition of capital punishment] 89 \\nArt. 103 [Fair trial] 89 \\nArt. 104 [Deprivation of liberty] 89 \\nX. Finance 91',\n",
       " 'Art. 101 [Ban on extraordinary courts] 89 \\nArt. 102 [Abolition of capital punishment] 89 \\nArt. 103 [Fair trial] 89 \\nArt. 104 [Deprivation of liberty] 89 \\nX. Finance 91 \\nArt. 104a [Apportionment of expenditures – Financial system – Liability] 92 \\nArt. 104b [Financial assistance for investments] 93 \\nArt. 104c [Financial assistance for investments in municipal education \\ninfrastructure] 94 \\nArt. 104d [Financial assistance for investments in social housing] 94 \\nArt. 105 [Distribution of powers regarding tax laws] 95 \\nArt. 106  [Apportionment of tax revenue and yield of fiscal monopolies]  95 \\nArt. 106a [Federal grants for local public transport] 99 \\nArt. 106b [Länder share of motor vehicle tax] 99 \\nArt. 107 [Distribution of tax revenue – Financial equalisation among \\nthe Länder – Supplementary grants] 99 \\nArt. 108 [Financial administration of the Federation and the Länder – \\nFinancial courts] 100 \\nArt. 109 [Budget management in the Federation and the Länder] 102']"
      ]
     },
     "execution_count": 6,
     "metadata": {},
     "output_type": "execute_result"
    }
   ],
   "source": [
    "chunks[:10]"
   ]
  },
  {
   "cell_type": "markdown",
   "metadata": {},
   "source": [
    "## Embeddings"
   ]
  },
  {
   "cell_type": "code",
   "execution_count": 7,
   "metadata": {},
   "outputs": [
    {
     "name": "stderr",
     "output_type": "stream",
     "text": [
      "/tmp/ipykernel_3568/840955190.py:3: LangChainDeprecationWarning: The class `OpenAIEmbeddings` was deprecated in LangChain 0.0.9 and will be removed in 1.0. An updated version of the class exists in the :class:`~langchain-openai package and should be used instead. To use it run `pip install -U :class:`~langchain-openai` and import as `from :class:`~langchain_openai import OpenAIEmbeddings``.\n",
      "  embeddings = OpenAIEmbeddings(model=\"text-embedding-3-large\")\n"
     ]
    }
   ],
   "source": [
    "# using openai embeddings\n",
    "api_key = os.getenv(\"OPENAI_API_KEY\")\n",
    "embeddings = OpenAIEmbeddings(model=\"text-embedding-3-large\")"
   ]
  },
  {
   "cell_type": "markdown",
   "metadata": {},
   "source": [
    "## Create Chroma DB"
   ]
  },
  {
   "cell_type": "code",
   "execution_count": 8,
   "metadata": {},
   "outputs": [
    {
     "name": "stdout",
     "output_type": "stream",
     "text": [
      "ChromaDB created with text embeddings.\n"
     ]
    }
   ],
   "source": [
    "db = Chroma.from_texts(\n",
    "    chunks,\n",
    "    embeddings,\n",
    "    persist_directory=\"./chroma_db\"\n",
    ")\n",
    "print(\"ChromaDB created with text embeddings.\")"
   ]
  },
  {
   "cell_type": "markdown",
   "metadata": {},
   "source": [
    "## Retrieving Documents"
   ]
  },
  {
   "cell_type": "code",
   "execution_count": 9,
   "metadata": {},
   "outputs": [],
   "source": [
    "user_question = \"What is fundamental human rights?\"\n",
    "retrieved_docs = db.similarity_search(user_question, k=10)"
   ]
  },
  {
   "cell_type": "code",
   "execution_count": 10,
   "metadata": {},
   "outputs": [
    {
     "data": {
      "text/plain": [
       "[Document(metadata={}, page_content='it shall be the duty of all state authority.\\n (2) The German people therefore acknowledge inviolable and \\ninalienable human rights as the basis of every community, \\nof peace and of justice in the world.\\n (3) The following basic rights shall bind the legislature, the \\nexecutive and the judiciary as directly applicable law. \\nArticle 2 \\n[Personal freedoms]\\n (1) Every person shall have the right to free development of his \\npersonality insofar as he does not violate the rights of oth-\\ners or offend against the constitutional order or the moral \\nlaw.\\n (2) Every person shall have the right to life and physical \\nintegrity. Freedom of the person shall be inviolable. These \\nrights may be interfered with only pursuant to a law. \\nArticle 3 \\n[Equality before the law]\\n (1) All persons shall be equal before the law.\\n (2) Men and women shall have equal rights. The state shall \\npromote the actual implementation of equal rights for wom-\\nen and men and take steps to eliminate disadvantages that'),\n",
       " Document(metadata={}, page_content='public relations activities. It is provided free of charge and is not intended \\nfor sale. It may not be used for election campaign purposes or utilised by \\nparties or parliamentary groups in their own public relations activities.\\nContents \\nPreamble 13 \\nI. Basic Rights 14 \\nArt. 1 [Human dignity – Human rights – Legally binding force \\nof basic rights] 15 \\nArt. 2 [Personal freedoms] 15 \\nArt. 3 [Equality before the law] 15 \\nArt. 4 [Freedom of faith and conscience] 15 \\nArt. 5 [Freedom of expression, arts and sciences] 16 \\nArt. 6 [Marriage – Family – Children] 16 \\nArt. 7 [School system] 17 \\nArt. 8 [Freedom of assembly] 17 \\nArt. 9 [Freedom of association] 18 \\nArt. 10 [Privacy of correspondence, posts and telecommunications] 18 \\nArt. 11 [Freedom of movement] 19 \\nArt. 12 [Occupational freedom] 19 \\nArt. 12a [Compulsory military and alternative civilian service] 19 \\nArt. 13 [Inviolability of the home] 21 \\nArt. 14 [Property – Inheritance – Expropriation] 22 \\nArt. 15 [Nationalisation] 22'),\n",
       " Document(metadata={}, page_content='(2) Men and women shall have equal rights. The state shall \\npromote the actual implementation of equal rights for wom-\\nen and men and take steps to eliminate disadvantages that \\nnow exist.\\n (3) No person shall be favoured or disfavoured because of sex, \\nparentage, race, language, homeland and origin, faith or \\nreligious or political opinions. No person shall be dis-\\nfavoured because of disability. \\nArticle 4 \\n[Freedom of faith and conscience]\\n (1) Freedom of faith and of conscience and freedom to profess \\na religious or philosophical creed shall be inviolable. \\nI. Basic Rights 15 \\n (2) The undisturbed practice of religion shall be guaranteed.\\n (3) No person shall be compelled against his conscience to \\nrender military service involving the use of arms. Details \\nshall be regulated by a federal law. \\nArticle 5 \\n[Freedom of expression, arts and sciences]\\n (1) Every person shall have the right freely to express and \\ndisseminate his opinions in speech, writing and pictures'),\n",
       " Document(metadata={}, page_content='Preamble \\nConscious of their responsibility before God and man, \\nInspired by the determination to promote world peace as an \\nequal partner in a united Europe, the German people, in the \\nexercise of their constituent power, have adopted this Basic Law. \\nGermans in the Länder of Baden-Württemberg, Bavaria, Ber-\\nlin, Brandenburg, Bremen, Hamburg, Hesse, Lower Saxony, \\nMecklenburg-Western Pomerania, North Rhine-Westphalia, \\nRhineland-Palatinate, Saarland, Saxony, Saxony-Anhalt, \\nSchleswig-Holstein and Thuringia have achieved the unity and \\nfreedom of Germany in free self-determination. This Basic Law \\nthus applies to the entire German people. \\n 13 \\nI. \\nBasic Rights \\n 14 \\nArticle 1 \\n[Human dignity – Human rights – Legally binding force \\nof basic rights]\\n (1) Human dignity shall be inviolable. To respect and protect \\nit shall be the duty of all state authority.\\n (2) The German people therefore acknowledge inviolable and \\ninalienable human rights as the basis of every community,'),\n",
       " Document(metadata={}, page_content='Art. 12a [Compulsory military and alternative civilian service] 19 \\nArt. 13 [Inviolability of the home] 21 \\nArt. 14 [Property – Inheritance – Expropriation] 22 \\nArt. 15 [Nationalisation] 22 \\nArt. 16 [Citizenship – Extradition] 23 \\nArt. 16a [Right of asylum] 23 \\nArt. 17 [Right of petition] 24 \\nArt.  17a [Restriction of basic rights in specific instances]  24 \\nArt. 18 [Forfeiture of basic rights] 25 \\nArt. 19 [Restriction of basic rights – Legal remedies] 25 \\nII. The Federation and the Länder 26 \\nArt. 20 [Constitutional principles – Right of resistance] 27 \\nArt. 20a [Protection of the natural foundations of life and animals] 27 \\nArt. 21 [Political parties] 27 \\nArt. 22 [Federal capital ‒ Federal flag] 28 \\nArt. 23 [European Union – Protection of basic rights – Principle \\nof subsidiarity] 28 \\nArt. 24 [Transfer of sovereign powers – System of collective security] 30 \\nArt. 25 [Primacy of international law] 30 \\nArt. 26 [Securing international peace] 31 \\nArt. 27 [Merchant fleet] 31'),\n",
       " Document(metadata={}, page_content='Article 19 \\n[Restriction of basic rights – Legal remedies]\\n (1) Insofar as, under this Basic Law, a basic right may be \\nrestricted by or pursuant to a law, such law must apply \\ngenerally and not merely to a single case. In addition, the \\nlaw must specify the basic right affected and the Article in \\nwhich it appears.\\n (2) In no case may the essence of a basic right be affected.\\n (3) The basic rights shall also apply to domestic legal persons \\nto the extent that the nature of such rights permits.\\n (4) Should any person’s rights be violated by public authority, \\nhe may have recourse to the courts. If no other jurisdiction \\nhas been established, recourse shall be to the ordinary \\ncourts. The second sentence of paragraph (2) of Article 10 \\nshall not be affected by this paragraph. \\nI. Basic Rights 25 \\nII. \\nThe Federation and the Länder \\n 26 \\nArticle 20 \\n[Constitutional principles – Right of resistance]\\n (1) The Federal Republic of Germany is a democratic and \\nsocial federal state.'),\n",
       " Document(metadata={}, page_content='population, may provide for restriction of the basic rights of \\nI. Basic Rights 24\\nfreedom of movement (Article 11) and inviolability of the \\nhome (Article 13). \\nArticle 18 \\n[Forfeiture of basic rights] \\nWhoever abuses the freedom of expression, in particular \\nthe freedom of the press (paragraph (1) of Article 5), the \\nfreedom of teaching (paragraph (3) of Article 5), the free-\\ndom of assembly (Article 8), the freedom of association \\n(Article 9), the privacy of correspondence, posts and tele-\\ncommunications (Article 10), the rights of property (Article \\n14) or the right of asylum (Article 16a) in order to combat \\nthe free democratic basic order shall forfeit these basic \\nrights. This forfeiture and its extent shall be declared by \\nthe Federal Constitutional Court. \\nArticle 19 \\n[Restriction of basic rights – Legal remedies]\\n (1) Insofar as, under this Basic Law, a basic right may be \\nrestricted by or pursuant to a law, such law must apply'),\n",
       " Document(metadata={}, page_content='whether it directly creates rights and duties for the indi -\\nvid ual (Article 25), the court shall obtain a decision from \\nthe Federal Constitutional Court.\\n (3) If the constitutional court of a Land, in interpreting this \\nBasic Law, proposes to derogate from a decision of the \\nFederal Constitutional Court or of the constitutional court \\nof another Land, it shall obtain a decision from the Federal \\nConstitutional Court. \\nArticle 101 \\n[Ban on extraordinary courts]\\n (1) Extraordinary courts shall not be allowed. No one may be \\nremoved from the jurisdiction of his lawful judge.\\n (2) Courts for particular ﬁelds of law may be established only \\nby a law. \\nArticle 102 \\n[Abolition of capital punishment] \\nCapital punishment is abolished. \\nArticle 103 \\n[Fair trial]\\n (1) In the courts every person shall be entitled to a hearing in \\naccordance with law.\\n (2) An act may be punished only if it was deﬁned by a law as \\na criminal offence before the act was committed.'),\n",
       " Document(metadata={}, page_content='Article 5 \\n[Freedom of expression, arts and sciences]\\n (1) Every person shall have the right freely to express and \\ndisseminate his opinions in speech, writing and pictures \\nand to inform himself without hindrance from generally \\naccessible sources. Freedom of the press and freedom of \\nreporting by means of broadcasts and ﬁlms shall be guaran-\\nteed. There shall be no censorship.\\n (2) These rights shall ﬁnd their limits in the provisions of \\ngeneral laws, in provisions for the protection of young \\npersons and in the right to personal honour.\\n (3) Arts and sciences, research and teaching shall be free. \\nThe freedom of teaching shall not release any person from \\nallegiance to the constitution. \\nArticle 6 \\n[Marriage – Family – Children]\\n (1) Marriage and the family shall enjoy the special protection \\nof the state.\\n (2) The care and upbringing of children is the natural right of \\nparents and a duty primarily incumbent upon them. The'),\n",
       " Document(metadata={}, page_content='(1) In the courts every person shall be entitled to a hearing in \\naccordance with law.\\n (2) An act may be punished only if it was deﬁned by a law as \\na criminal offence before the act was committed.\\n (3) No person may be punished for the same act more than \\nonce under the general criminal laws. \\nArticle 104 \\n[Deprivation of liberty]\\n (1) Liberty of the person may be restricted only pursuant to \\na formal law and only in compliance with the procedures \\nprescribed therein. Persons in custody may not be sub jected \\nto mental or physical mistreatment. \\nIX. The Judiciary 89\\n (2) Only a judge may rule upon the permissibility or contin u -\\nation of any deprivation of liberty. If such a deprivation \\nis not based on a judicial order, a judicial decision shall \\nbe obtained without delay. The police may hold no one in \\ncustody on their own authority beyond the end of the day \\nfollowing that of the arrest. Details shall be regulated by a \\nlaw.')]"
      ]
     },
     "execution_count": 10,
     "metadata": {},
     "output_type": "execute_result"
    }
   ],
   "source": [
    "retrieved_docs"
   ]
  },
  {
   "cell_type": "code",
   "execution_count": 11,
   "metadata": {},
   "outputs": [
    {
     "name": "stdout",
     "output_type": "stream",
     "text": [
      "Document 1:\n",
      "it shall be the duty of all state authority.\n",
      " (2) The German people therefore acknowledge inviolable and \n",
      "inalienable human rights as the basis of every community, \n",
      "of peace and of justice in the world.\n",
      " (3) The following basic rights shall bind the legislature, the \n",
      "executive and the judiciary as directly applicable law. \n",
      "Article 2 \n",
      "[Personal freedoms]\n",
      " (1) Every person shall have the right to free development of his \n",
      "personality insofar as he does not violate the rights of oth-\n",
      "ers or offend against the constitutional order or the moral \n",
      "law.\n",
      " (2) Every person shall have the right to life and physical \n",
      "integrity. Freedom of the person shall be inviolable. These \n",
      "rights may be interfered with only pursuant to a law. \n",
      "Article 3 \n",
      "[Equality before the law]\n",
      " (1) All persons shall be equal before the law.\n",
      " (2) Men and women shall have equal rights. The state shall \n",
      "promote the actual implementation of equal rights for wom-\n",
      "en and men and take steps to eliminate disadvantages that\n",
      "Document 2:\n",
      "public relations activities. It is provided free of charge and is not intended \n",
      "for sale. It may not be used for election campaign purposes or utilised by \n",
      "parties or parliamentary groups in their own public relations activities.\n",
      "Contents \n",
      "Preamble 13 \n",
      "I. Basic Rights 14 \n",
      "Art. 1 [Human dignity – Human rights – Legally binding force \n",
      "of basic rights] 15 \n",
      "Art. 2 [Personal freedoms] 15 \n",
      "Art. 3 [Equality before the law] 15 \n",
      "Art. 4 [Freedom of faith and conscience] 15 \n",
      "Art. 5 [Freedom of expression, arts and sciences] 16 \n",
      "Art. 6 [Marriage – Family – Children] 16 \n",
      "Art. 7 [School system] 17 \n",
      "Art. 8 [Freedom of assembly] 17 \n",
      "Art. 9 [Freedom of association] 18 \n",
      "Art. 10 [Privacy of correspondence, posts and telecommunications] 18 \n",
      "Art. 11 [Freedom of movement] 19 \n",
      "Art. 12 [Occupational freedom] 19 \n",
      "Art. 12a [Compulsory military and alternative civilian service] 19 \n",
      "Art. 13 [Inviolability of the home] 21 \n",
      "Art. 14 [Property – Inheritance – Expropriation] 22 \n",
      "Art. 15 [Nationalisation] 22\n",
      "Document 3:\n",
      "(2) Men and women shall have equal rights. The state shall \n",
      "promote the actual implementation of equal rights for wom-\n",
      "en and men and take steps to eliminate disadvantages that \n",
      "now exist.\n",
      " (3) No person shall be favoured or disfavoured because of sex, \n",
      "parentage, race, language, homeland and origin, faith or \n",
      "religious or political opinions. No person shall be dis-\n",
      "favoured because of disability. \n",
      "Article 4 \n",
      "[Freedom of faith and conscience]\n",
      " (1) Freedom of faith and of conscience and freedom to profess \n",
      "a religious or philosophical creed shall be inviolable. \n",
      "I. Basic Rights 15 \n",
      " (2) The undisturbed practice of religion shall be guaranteed.\n",
      " (3) No person shall be compelled against his conscience to \n",
      "render military service involving the use of arms. Details \n",
      "shall be regulated by a federal law. \n",
      "Article 5 \n",
      "[Freedom of expression, arts and sciences]\n",
      " (1) Every person shall have the right freely to express and \n",
      "disseminate his opinions in speech, writing and pictures\n",
      "Document 4:\n",
      "Preamble \n",
      "Conscious of their responsibility before God and man, \n",
      "Inspired by the determination to promote world peace as an \n",
      "equal partner in a united Europe, the German people, in the \n",
      "exercise of their constituent power, have adopted this Basic Law. \n",
      "Germans in the Länder of Baden-Württemberg, Bavaria, Ber-\n",
      "lin, Brandenburg, Bremen, Hamburg, Hesse, Lower Saxony, \n",
      "Mecklenburg-Western Pomerania, North Rhine-Westphalia, \n",
      "Rhineland-Palatinate, Saarland, Saxony, Saxony-Anhalt, \n",
      "Schleswig-Holstein and Thuringia have achieved the unity and \n",
      "freedom of Germany in free self-determination. This Basic Law \n",
      "thus applies to the entire German people. \n",
      " 13 \n",
      "I. \n",
      "Basic Rights \n",
      " 14 \n",
      "Article 1 \n",
      "[Human dignity – Human rights – Legally binding force \n",
      "of basic rights]\n",
      " (1) Human dignity shall be inviolable. To respect and protect \n",
      "it shall be the duty of all state authority.\n",
      " (2) The German people therefore acknowledge inviolable and \n",
      "inalienable human rights as the basis of every community,\n",
      "Document 5:\n",
      "Art. 12a [Compulsory military and alternative civilian service] 19 \n",
      "Art. 13 [Inviolability of the home] 21 \n",
      "Art. 14 [Property – Inheritance – Expropriation] 22 \n",
      "Art. 15 [Nationalisation] 22 \n",
      "Art. 16 [Citizenship – Extradition] 23 \n",
      "Art. 16a [Right of asylum] 23 \n",
      "Art. 17 [Right of petition] 24 \n",
      "Art.  17a [Restriction of basic rights in specific instances]  24 \n",
      "Art. 18 [Forfeiture of basic rights] 25 \n",
      "Art. 19 [Restriction of basic rights – Legal remedies] 25 \n",
      "II. The Federation and the Länder 26 \n",
      "Art. 20 [Constitutional principles – Right of resistance] 27 \n",
      "Art. 20a [Protection of the natural foundations of life and animals] 27 \n",
      "Art. 21 [Political parties] 27 \n",
      "Art. 22 [Federal capital ‒ Federal flag] 28 \n",
      "Art. 23 [European Union – Protection of basic rights – Principle \n",
      "of subsidiarity] 28 \n",
      "Art. 24 [Transfer of sovereign powers – System of collective security] 30 \n",
      "Art. 25 [Primacy of international law] 30 \n",
      "Art. 26 [Securing international peace] 31 \n",
      "Art. 27 [Merchant fleet] 31\n",
      "Document 6:\n",
      "Article 19 \n",
      "[Restriction of basic rights – Legal remedies]\n",
      " (1) Insofar as, under this Basic Law, a basic right may be \n",
      "restricted by or pursuant to a law, such law must apply \n",
      "generally and not merely to a single case. In addition, the \n",
      "law must specify the basic right affected and the Article in \n",
      "which it appears.\n",
      " (2) In no case may the essence of a basic right be affected.\n",
      " (3) The basic rights shall also apply to domestic legal persons \n",
      "to the extent that the nature of such rights permits.\n",
      " (4) Should any person’s rights be violated by public authority, \n",
      "he may have recourse to the courts. If no other jurisdiction \n",
      "has been established, recourse shall be to the ordinary \n",
      "courts. The second sentence of paragraph (2) of Article 10 \n",
      "shall not be affected by this paragraph. \n",
      "I. Basic Rights 25 \n",
      "II. \n",
      "The Federation and the Länder \n",
      " 26 \n",
      "Article 20 \n",
      "[Constitutional principles – Right of resistance]\n",
      " (1) The Federal Republic of Germany is a democratic and \n",
      "social federal state.\n",
      "Document 7:\n",
      "population, may provide for restriction of the basic rights of \n",
      "I. Basic Rights 24\n",
      "freedom of movement (Article 11) and inviolability of the \n",
      "home (Article 13). \n",
      "Article 18 \n",
      "[Forfeiture of basic rights] \n",
      "Whoever abuses the freedom of expression, in particular \n",
      "the freedom of the press (paragraph (1) of Article 5), the \n",
      "freedom of teaching (paragraph (3) of Article 5), the free-\n",
      "dom of assembly (Article 8), the freedom of association \n",
      "(Article 9), the privacy of correspondence, posts and tele-\n",
      "communications (Article 10), the rights of property (Article \n",
      "14) or the right of asylum (Article 16a) in order to combat \n",
      "the free democratic basic order shall forfeit these basic \n",
      "rights. This forfeiture and its extent shall be declared by \n",
      "the Federal Constitutional Court. \n",
      "Article 19 \n",
      "[Restriction of basic rights – Legal remedies]\n",
      " (1) Insofar as, under this Basic Law, a basic right may be \n",
      "restricted by or pursuant to a law, such law must apply\n",
      "Document 8:\n",
      "whether it directly creates rights and duties for the indi -\n",
      "vid ual (Article 25), the court shall obtain a decision from \n",
      "the Federal Constitutional Court.\n",
      " (3) If the constitutional court of a Land, in interpreting this \n",
      "Basic Law, proposes to derogate from a decision of the \n",
      "Federal Constitutional Court or of the constitutional court \n",
      "of another Land, it shall obtain a decision from the Federal \n",
      "Constitutional Court. \n",
      "Article 101 \n",
      "[Ban on extraordinary courts]\n",
      " (1) Extraordinary courts shall not be allowed. No one may be \n",
      "removed from the jurisdiction of his lawful judge.\n",
      " (2) Courts for particular ﬁelds of law may be established only \n",
      "by a law. \n",
      "Article 102 \n",
      "[Abolition of capital punishment] \n",
      "Capital punishment is abolished. \n",
      "Article 103 \n",
      "[Fair trial]\n",
      " (1) In the courts every person shall be entitled to a hearing in \n",
      "accordance with law.\n",
      " (2) An act may be punished only if it was deﬁned by a law as \n",
      "a criminal offence before the act was committed.\n",
      "Document 9:\n",
      "Article 5 \n",
      "[Freedom of expression, arts and sciences]\n",
      " (1) Every person shall have the right freely to express and \n",
      "disseminate his opinions in speech, writing and pictures \n",
      "and to inform himself without hindrance from generally \n",
      "accessible sources. Freedom of the press and freedom of \n",
      "reporting by means of broadcasts and ﬁlms shall be guaran-\n",
      "teed. There shall be no censorship.\n",
      " (2) These rights shall ﬁnd their limits in the provisions of \n",
      "general laws, in provisions for the protection of young \n",
      "persons and in the right to personal honour.\n",
      " (3) Arts and sciences, research and teaching shall be free. \n",
      "The freedom of teaching shall not release any person from \n",
      "allegiance to the constitution. \n",
      "Article 6 \n",
      "[Marriage – Family – Children]\n",
      " (1) Marriage and the family shall enjoy the special protection \n",
      "of the state.\n",
      " (2) The care and upbringing of children is the natural right of \n",
      "parents and a duty primarily incumbent upon them. The\n",
      "Document 10:\n",
      "(1) In the courts every person shall be entitled to a hearing in \n",
      "accordance with law.\n",
      " (2) An act may be punished only if it was deﬁned by a law as \n",
      "a criminal offence before the act was committed.\n",
      " (3) No person may be punished for the same act more than \n",
      "once under the general criminal laws. \n",
      "Article 104 \n",
      "[Deprivation of liberty]\n",
      " (1) Liberty of the person may be restricted only pursuant to \n",
      "a formal law and only in compliance with the procedures \n",
      "prescribed therein. Persons in custody may not be sub jected \n",
      "to mental or physical mistreatment. \n",
      "IX. The Judiciary 89\n",
      " (2) Only a judge may rule upon the permissibility or contin u -\n",
      "ation of any deprivation of liberty. If such a deprivation \n",
      "is not based on a judicial order, a judicial decision shall \n",
      "be obtained without delay. The police may hold no one in \n",
      "custody on their own authority beyond the end of the day \n",
      "following that of the arrest. Details shall be regulated by a \n",
      "law.\n"
     ]
    }
   ],
   "source": [
    "# Display top results\n",
    "for i, doc in enumerate(retrieved_docs): # Display top 3 results\n",
    "    print(f\"Document {i+1}:\\n{doc.page_content}\") # Display content"
   ]
  },
  {
   "cell_type": "code",
   "execution_count": 12,
   "metadata": {},
   "outputs": [],
   "source": [
    "def _get_document_prompt(docs):\n",
    "    prompt = \"\\n\"\n",
    "    for doc in docs:\n",
    "        prompt += \"\\nContent:\\n\"\n",
    "        prompt += doc.page_content + \"\\n\\n\"\n",
    "    return prompt"
   ]
  },
  {
   "cell_type": "code",
   "execution_count": 13,
   "metadata": {},
   "outputs": [],
   "source": [
    "formatted_context = _get_document_prompt(retrieved_docs)"
   ]
  },
  {
   "cell_type": "code",
   "execution_count": 14,
   "metadata": {},
   "outputs": [
    {
     "data": {
      "text/plain": [
       "'\\n\\nContent:\\nit shall be the duty of all state authority.\\n (2) The German people therefore acknowledge inviolable and \\ninalienable human rights as the basis of every community, \\nof peace and of justice in the world.\\n (3) The following basic rights shall bind the legislature, the \\nexecutive and the judiciary as directly applicable law. \\nArticle 2 \\n[Personal freedoms]\\n (1) Every person shall have the right to free development of his \\npersonality insofar as he does not violate the rights of oth-\\ners or offend against the constitutional order or the moral \\nlaw.\\n (2) Every person shall have the right to life and physical \\nintegrity. Freedom of the person shall be inviolable. These \\nrights may be interfered with only pursuant to a law. \\nArticle 3 \\n[Equality before the law]\\n (1) All persons shall be equal before the law.\\n (2) Men and women shall have equal rights. The state shall \\npromote the actual implementation of equal rights for wom-\\nen and men and take steps to eliminate disadvantages that\\n\\n\\nContent:\\npublic relations activities. It is provided free of charge and is not intended \\nfor sale. It may not be used for election campaign purposes or utilised by \\nparties or parliamentary groups in their own public relations activities.\\nContents \\nPreamble 13 \\nI. Basic Rights 14 \\nArt. 1 [Human dignity – Human rights – Legally binding force \\nof basic rights] 15 \\nArt. 2 [Personal freedoms] 15 \\nArt. 3 [Equality before the law] 15 \\nArt. 4 [Freedom of faith and conscience] 15 \\nArt. 5 [Freedom of expression, arts and sciences] 16 \\nArt. 6 [Marriage – Family – Children] 16 \\nArt. 7 [School system] 17 \\nArt. 8 [Freedom of assembly] 17 \\nArt. 9 [Freedom of association] 18 \\nArt. 10 [Privacy of correspondence, posts and telecommunications] 18 \\nArt. 11 [Freedom of movement] 19 \\nArt. 12 [Occupational freedom] 19 \\nArt. 12a [Compulsory military and alternative civilian service] 19 \\nArt. 13 [Inviolability of the home] 21 \\nArt. 14 [Property – Inheritance – Expropriation] 22 \\nArt. 15 [Nationalisation] 22\\n\\n\\nContent:\\n(2) Men and women shall have equal rights. The state shall \\npromote the actual implementation of equal rights for wom-\\nen and men and take steps to eliminate disadvantages that \\nnow exist.\\n (3) No person shall be favoured or disfavoured because of sex, \\nparentage, race, language, homeland and origin, faith or \\nreligious or political opinions. No person shall be dis-\\nfavoured because of disability. \\nArticle 4 \\n[Freedom of faith and conscience]\\n (1) Freedom of faith and of conscience and freedom to profess \\na religious or philosophical creed shall be inviolable. \\nI. Basic Rights 15 \\n (2) The undisturbed practice of religion shall be guaranteed.\\n (3) No person shall be compelled against his conscience to \\nrender military service involving the use of arms. Details \\nshall be regulated by a federal law. \\nArticle 5 \\n[Freedom of expression, arts and sciences]\\n (1) Every person shall have the right freely to express and \\ndisseminate his opinions in speech, writing and pictures\\n\\n\\nContent:\\nPreamble \\nConscious of their responsibility before God and man, \\nInspired by the determination to promote world peace as an \\nequal partner in a united Europe, the German people, in the \\nexercise of their constituent power, have adopted this Basic Law. \\nGermans in the Länder of Baden-Württemberg, Bavaria, Ber-\\nlin, Brandenburg, Bremen, Hamburg, Hesse, Lower Saxony, \\nMecklenburg-Western Pomerania, North Rhine-Westphalia, \\nRhineland-Palatinate, Saarland, Saxony, Saxony-Anhalt, \\nSchleswig-Holstein and Thuringia have achieved the unity and \\nfreedom of Germany in free self-determination. This Basic Law \\nthus applies to the entire German people. \\n 13 \\nI. \\nBasic Rights \\n 14 \\nArticle 1 \\n[Human dignity – Human rights – Legally binding force \\nof basic rights]\\n (1) Human dignity shall be inviolable. To respect and protect \\nit shall be the duty of all state authority.\\n (2) The German people therefore acknowledge inviolable and \\ninalienable human rights as the basis of every community,\\n\\n\\nContent:\\nArt. 12a [Compulsory military and alternative civilian service] 19 \\nArt. 13 [Inviolability of the home] 21 \\nArt. 14 [Property – Inheritance – Expropriation] 22 \\nArt. 15 [Nationalisation] 22 \\nArt. 16 [Citizenship – Extradition] 23 \\nArt. 16a [Right of asylum] 23 \\nArt. 17 [Right of petition] 24 \\nArt.  17a [Restriction of basic rights in specific instances]  24 \\nArt. 18 [Forfeiture of basic rights] 25 \\nArt. 19 [Restriction of basic rights – Legal remedies] 25 \\nII. The Federation and the Länder 26 \\nArt. 20 [Constitutional principles – Right of resistance] 27 \\nArt. 20a [Protection of the natural foundations of life and animals] 27 \\nArt. 21 [Political parties] 27 \\nArt. 22 [Federal capital ‒ Federal flag] 28 \\nArt. 23 [European Union – Protection of basic rights – Principle \\nof subsidiarity] 28 \\nArt. 24 [Transfer of sovereign powers – System of collective security] 30 \\nArt. 25 [Primacy of international law] 30 \\nArt. 26 [Securing international peace] 31 \\nArt. 27 [Merchant fleet] 31\\n\\n\\nContent:\\nArticle 19 \\n[Restriction of basic rights – Legal remedies]\\n (1) Insofar as, under this Basic Law, a basic right may be \\nrestricted by or pursuant to a law, such law must apply \\ngenerally and not merely to a single case. In addition, the \\nlaw must specify the basic right affected and the Article in \\nwhich it appears.\\n (2) In no case may the essence of a basic right be affected.\\n (3) The basic rights shall also apply to domestic legal persons \\nto the extent that the nature of such rights permits.\\n (4) Should any person’s rights be violated by public authority, \\nhe may have recourse to the courts. If no other jurisdiction \\nhas been established, recourse shall be to the ordinary \\ncourts. The second sentence of paragraph (2) of Article 10 \\nshall not be affected by this paragraph. \\nI. Basic Rights 25 \\nII. \\nThe Federation and the Länder \\n 26 \\nArticle 20 \\n[Constitutional principles – Right of resistance]\\n (1) The Federal Republic of Germany is a democratic and \\nsocial federal state.\\n\\n\\nContent:\\npopulation, may provide for restriction of the basic rights of \\nI. Basic Rights 24\\nfreedom of movement (Article 11) and inviolability of the \\nhome (Article 13). \\nArticle 18 \\n[Forfeiture of basic rights] \\nWhoever abuses the freedom of expression, in particular \\nthe freedom of the press (paragraph (1) of Article 5), the \\nfreedom of teaching (paragraph (3) of Article 5), the free-\\ndom of assembly (Article 8), the freedom of association \\n(Article 9), the privacy of correspondence, posts and tele-\\ncommunications (Article 10), the rights of property (Article \\n14) or the right of asylum (Article 16a) in order to combat \\nthe free democratic basic order shall forfeit these basic \\nrights. This forfeiture and its extent shall be declared by \\nthe Federal Constitutional Court. \\nArticle 19 \\n[Restriction of basic rights – Legal remedies]\\n (1) Insofar as, under this Basic Law, a basic right may be \\nrestricted by or pursuant to a law, such law must apply\\n\\n\\nContent:\\nwhether it directly creates rights and duties for the indi -\\nvid ual (Article 25), the court shall obtain a decision from \\nthe Federal Constitutional Court.\\n (3) If the constitutional court of a Land, in interpreting this \\nBasic Law, proposes to derogate from a decision of the \\nFederal Constitutional Court or of the constitutional court \\nof another Land, it shall obtain a decision from the Federal \\nConstitutional Court. \\nArticle 101 \\n[Ban on extraordinary courts]\\n (1) Extraordinary courts shall not be allowed. No one may be \\nremoved from the jurisdiction of his lawful judge.\\n (2) Courts for particular ﬁelds of law may be established only \\nby a law. \\nArticle 102 \\n[Abolition of capital punishment] \\nCapital punishment is abolished. \\nArticle 103 \\n[Fair trial]\\n (1) In the courts every person shall be entitled to a hearing in \\naccordance with law.\\n (2) An act may be punished only if it was deﬁned by a law as \\na criminal offence before the act was committed.\\n\\n\\nContent:\\nArticle 5 \\n[Freedom of expression, arts and sciences]\\n (1) Every person shall have the right freely to express and \\ndisseminate his opinions in speech, writing and pictures \\nand to inform himself without hindrance from generally \\naccessible sources. Freedom of the press and freedom of \\nreporting by means of broadcasts and ﬁlms shall be guaran-\\nteed. There shall be no censorship.\\n (2) These rights shall ﬁnd their limits in the provisions of \\ngeneral laws, in provisions for the protection of young \\npersons and in the right to personal honour.\\n (3) Arts and sciences, research and teaching shall be free. \\nThe freedom of teaching shall not release any person from \\nallegiance to the constitution. \\nArticle 6 \\n[Marriage – Family – Children]\\n (1) Marriage and the family shall enjoy the special protection \\nof the state.\\n (2) The care and upbringing of children is the natural right of \\nparents and a duty primarily incumbent upon them. The\\n\\n\\nContent:\\n(1) In the courts every person shall be entitled to a hearing in \\naccordance with law.\\n (2) An act may be punished only if it was deﬁned by a law as \\na criminal offence before the act was committed.\\n (3) No person may be punished for the same act more than \\nonce under the general criminal laws. \\nArticle 104 \\n[Deprivation of liberty]\\n (1) Liberty of the person may be restricted only pursuant to \\na formal law and only in compliance with the procedures \\nprescribed therein. Persons in custody may not be sub jected \\nto mental or physical mistreatment. \\nIX. The Judiciary 89\\n (2) Only a judge may rule upon the permissibility or contin u -\\nation of any deprivation of liberty. If such a deprivation \\nis not based on a judicial order, a judicial decision shall \\nbe obtained without delay. The police may hold no one in \\ncustody on their own authority beyond the end of the day \\nfollowing that of the arrest. Details shall be regulated by a \\nlaw.\\n\\n'"
      ]
     },
     "execution_count": 14,
     "metadata": {},
     "output_type": "execute_result"
    }
   ],
   "source": [
    "formatted_context"
   ]
  },
  {
   "cell_type": "markdown",
   "metadata": {},
   "source": [
    "## Chatbot Architechture"
   ]
  },
  {
   "cell_type": "code",
   "execution_count": 15,
   "metadata": {},
   "outputs": [
    {
     "name": "stdout",
     "output_type": "stream",
     "text": [
      "Prompt constructed.\n"
     ]
    }
   ],
   "source": [
    "prompt = f\"\"\"\n",
    "## SYSTEM ROLE\n",
    "You are a knowledgeable and factual chatbot designed to assist with technical and theoretical questions about **German Basic Law**. \n",
    "Your answers must be based exclusively on provided content from technical books provided.\n",
    "\n",
    "## USER QUESTION\n",
    "The user has asked: \n",
    "\"{user_question}\"\n",
    "\n",
    "## CONTEXT\n",
    "Here is the relevant content from the article:  \n",
    "'''\n",
    "{formatted_context}\n",
    "'''\n",
    "\n",
    "## GUIDELINES\n",
    "1. **Accuracy**:  \n",
    "   - Only use the content in the `CONTEXT` section to answer.  \n",
    "   - If the answer cannot be found, explicitly state: \"The provided context does not contain this information.\"\n",
    "\n",
    "2. **Transparency**:  \n",
    "   - Reference the article's name and page numbers when providing information.  \n",
    "   - Do not speculate or provide opinions.  \n",
    "\n",
    "3. **Clarity**:  \n",
    "   - Use simple, professional, and concise language.  \n",
    "   - Format your response in Markdown for readability.  \n",
    "\n",
    "## TASK\n",
    "1. Answer the user's question **directly** if possible.  \n",
    "2. Point the user to relevant parts of the documentation.  \n",
    "3. Provide the response in the following format:\n",
    "\n",
    "## RESPONSE FORMAT\n",
    "'''\n",
    "# [Brief Title of the Answer]\n",
    "[Answer in simple, clear text.]\n",
    "\n",
    "**Source**:  \n",
    "• [Article Title], Page(s): [...]\n",
    "'''\n",
    "\"\"\"\n",
    "print(\"Prompt constructed.\")"
   ]
  },
  {
   "cell_type": "code",
   "execution_count": 16,
   "metadata": {},
   "outputs": [],
   "source": [
    "# Set up GPT client and parameters\n",
    "client = openai.OpenAI()\n",
    "model_params = {\n",
    "    'model': 'gpt-4o',\n",
    "    'temperature': 0.7,  # Increase creativity\n",
    "    'max_tokens': 4000,  # Allow for longer responses\n",
    "    'top_p': 0.9,        # Use nucleus sampling\n",
    "    'frequency_penalty': 0.5,  # Reduce repetition\n",
    "    'presence_penalty': 0.6    # Encourage new topics\n",
    "}"
   ]
  },
  {
   "cell_type": "markdown",
   "metadata": {},
   "source": [
    "## Response"
   ]
  },
  {
   "cell_type": "code",
   "execution_count": 17,
   "metadata": {},
   "outputs": [],
   "source": [
    "messages = [{'role': 'user', 'content': prompt}]\n",
    "completion = client.chat.completions.create(messages=messages, **model_params, timeout=120)"
   ]
  },
  {
   "cell_type": "code",
   "execution_count": 18,
   "metadata": {},
   "outputs": [
    {
     "name": "stdout",
     "output_type": "stream",
     "text": [
      "'''\n",
      "# Fundamental Human Rights in German Basic Law\n",
      "\n",
      "Fundamental human rights are recognized as inviolable and inalienable by the German Basic Law. They form the basis of every community, peace, and justice in the world. The Basic Law directly binds the legislature, executive, and judiciary to these basic rights.\n",
      "\n",
      "**Source**:  \n",
      "• Article 1 [Human dignity – Human rights – Legally binding force of basic rights], Page(s): 15\n",
      "'''\n"
     ]
    }
   ],
   "source": [
    "answer = completion.choices[0].message.content\n",
    "print(answer)"
   ]
  },
  {
   "cell_type": "markdown",
   "metadata": {},
   "source": [
    "'''\n",
    "# Fundamental Human Rights in the German Basic Law\n",
    "\n",
    "Fundamental human rights, as acknowledged by the German Basic Law, are described as inviolable and inalienable rights that form the basis of every community, peace, and justice in the world. These rights bind the legislature, executive, and judiciary as directly applicable law.\n",
    "\n",
    "**Source**:  \n",
    "• Article 1 [Human dignity – Human rights – Legally binding force of basic rights], Page(s): 15\n",
    "'''"
   ]
  },
  {
   "cell_type": "code",
   "execution_count": 19,
   "metadata": {},
   "outputs": [],
   "source": [
    "from sentence_transformers import SentenceTransformer"
   ]
  },
  {
   "cell_type": "code",
   "execution_count": 47,
   "metadata": {},
   "outputs": [
    {
     "name": "stdout",
     "output_type": "stream",
     "text": [
      "[[ 6.76569492e-02  6.34959266e-02  4.87131327e-02  7.93049708e-02\n",
      "   3.74480784e-02  2.65277107e-03  3.93749774e-02 -7.09846988e-03\n",
      "   5.93614690e-02  3.15370075e-02  6.00980744e-02 -5.29051870e-02\n",
      "   4.06067856e-02 -2.59308480e-02  2.98427902e-02  1.12688087e-03\n",
      "   7.35148862e-02 -5.03818430e-02 -1.22386619e-01  2.37028226e-02\n",
      "   2.97265742e-02  4.24768738e-02  2.56337207e-02  1.99517375e-03\n",
      "  -5.69190271e-02 -2.71598082e-02 -3.29035670e-02  6.60249069e-02\n",
      "   1.19007148e-01 -4.58791256e-02 -7.26214945e-02 -3.25840078e-02\n",
      "   5.23413271e-02  4.50553373e-02  8.25297926e-03  3.67023870e-02\n",
      "  -1.39415376e-02  6.53918535e-02 -2.64272355e-02  2.06400568e-04\n",
      "  -1.36643825e-02 -3.62810604e-02 -1.95043404e-02 -2.89738271e-02\n",
      "   3.94270681e-02 -8.84090438e-02  2.62427493e-03  1.36714075e-02\n",
      "   4.83062714e-02 -3.11565809e-02 -1.17329195e-01 -5.11690080e-02\n",
      "  -8.85287821e-02 -2.18962636e-02  1.42986281e-02  4.44167145e-02\n",
      "  -1.34815276e-02  7.43392706e-02  2.66382638e-02 -1.98762398e-02\n",
      "   1.79191176e-02 -1.06052216e-02 -9.04262885e-02  2.13269200e-02\n",
      "   1.41204849e-01 -6.47177501e-03 -1.40383979e-03 -1.53609877e-02\n",
      "  -8.73571932e-02  7.22173899e-02  2.01402847e-02  4.25587483e-02\n",
      "  -3.49013917e-02  3.19593179e-04 -8.02971050e-02 -3.27472761e-02\n",
      "   2.85268873e-02 -5.13657518e-02  1.09389216e-01  8.19327831e-02\n",
      "  -9.84039605e-02 -9.34096426e-02 -1.51292300e-02  4.51249070e-02\n",
      "   4.94172201e-02 -2.51867529e-02  1.57077312e-02 -1.29290760e-01\n",
      "   5.31886937e-03  4.02343832e-03 -2.34571397e-02 -6.72983006e-02\n",
      "   2.92280093e-02 -2.60845721e-02  1.30625386e-02 -3.11662946e-02\n",
      "  -4.82713133e-02 -5.58859520e-02 -3.87505144e-02  1.20010875e-01\n",
      "  -1.03924619e-02  4.89705503e-02  5.53537384e-02  4.49358076e-02\n",
      "  -4.00974881e-03 -1.02959737e-01 -2.92968750e-02 -5.83402552e-02\n",
      "   2.70471945e-02 -2.20169462e-02 -7.22240955e-02 -4.13869917e-02\n",
      "  -1.93298254e-02  2.73331092e-03  2.76992330e-04 -9.67589468e-02\n",
      "  -1.00574702e-01 -1.41923008e-02 -8.07891786e-02  4.53924984e-02\n",
      "   2.45041456e-02  5.97613752e-02 -7.38185123e-02  1.19844228e-02\n",
      "  -6.63404018e-02 -7.69044831e-02  3.85157913e-02 -5.59362183e-33\n",
      "   2.80013606e-02 -5.60784973e-02 -4.86601628e-02  2.15569455e-02\n",
      "   6.01980835e-02 -4.81402725e-02 -3.50247212e-02  1.93314180e-02\n",
      "  -1.75151844e-02 -3.89209911e-02 -3.81062878e-03 -1.70288142e-02\n",
      "   2.82099638e-02  1.28291063e-02  4.71601114e-02  6.21030182e-02\n",
      "  -6.43589273e-02  1.29285604e-01 -1.31231612e-02  5.23069575e-02\n",
      "  -3.73681113e-02  2.89094299e-02 -1.68980863e-02 -2.37330515e-02\n",
      "  -3.33491974e-02 -5.16762137e-02  1.55356377e-02  2.08802503e-02\n",
      "  -1.25372065e-02  4.59578857e-02  3.72719951e-02  2.80567203e-02\n",
      "  -5.90004958e-02 -1.16988299e-02  4.92182635e-02  4.70329337e-02\n",
      "   7.35487863e-02 -3.70530002e-02  3.98460589e-03  1.06411697e-02\n",
      "  -1.61542965e-04 -5.27166277e-02  2.75928043e-02 -3.92921306e-02\n",
      "   8.44717398e-02  4.86860909e-02 -4.85874573e-03  1.79948714e-02\n",
      "  -4.28569540e-02  1.23375207e-02  6.39956398e-03  4.04823385e-02\n",
      "   1.48886451e-02 -1.53941037e-02  7.62948245e-02  2.37044208e-02\n",
      "   4.45237532e-02  5.08195758e-02 -2.31254729e-03 -1.88736599e-02\n",
      "  -1.23335803e-02  4.66001965e-02 -5.63437901e-02  6.29927143e-02\n",
      "  -3.15535180e-02  3.24912667e-02  2.34673247e-02 -6.55438304e-02\n",
      "   2.01709308e-02  2.57082693e-02 -1.23869013e-02 -8.36493913e-03\n",
      "  -6.64378032e-02  9.43073407e-02 -3.57092768e-02 -3.42483260e-02\n",
      "  -6.66355062e-03 -8.01524892e-03 -3.09711266e-02  4.33012098e-02\n",
      "  -8.21400248e-03 -1.50795043e-01  3.07692047e-02  4.00719233e-02\n",
      "  -3.79293412e-02  1.93214230e-03  4.00530361e-02 -8.77075121e-02\n",
      "  -3.68490964e-02  8.57958198e-03 -3.19251642e-02 -1.25258146e-02\n",
      "   7.35540390e-02  1.34740036e-03  2.05918644e-02  2.71098128e-33\n",
      "  -5.18577471e-02  5.78360930e-02 -9.18984562e-02  3.94421332e-02\n",
      "   1.05576515e-01 -1.96912289e-02  6.18402250e-02 -7.63465464e-02\n",
      "   2.40880437e-02  9.40048918e-02 -1.16535418e-01  3.71198542e-02\n",
      "   5.22425473e-02 -3.95858800e-03  5.72214425e-02  5.32853976e-03\n",
      "   1.24016866e-01  1.39022591e-02 -1.10249799e-02  3.56053486e-02\n",
      "  -3.30754928e-02  8.16574246e-02 -1.52003812e-02  6.05585054e-02\n",
      "  -6.01397529e-02  3.26102711e-02 -3.48297022e-02 -1.69882216e-02\n",
      "  -9.74907577e-02 -2.71483827e-02  1.74711202e-03 -7.68982098e-02\n",
      "  -4.31857780e-02 -1.89984422e-02 -2.91661024e-02  5.77488430e-02\n",
      "   2.41820887e-02 -1.16902525e-02 -6.21434972e-02  2.84351613e-02\n",
      "  -2.37515647e-04 -2.51783505e-02  4.39639343e-03  8.12839791e-02\n",
      "   3.64184044e-02 -6.04006425e-02 -3.65517512e-02 -7.93748125e-02\n",
      "  -5.08523919e-03  6.69698715e-02 -1.17784366e-01  3.23743448e-02\n",
      "  -4.71252799e-02 -1.34459343e-02 -9.48444828e-02  8.24951753e-03\n",
      "  -1.06749106e-02 -6.81881756e-02  1.11818616e-03  2.48020496e-02\n",
      "  -6.35889843e-02  2.84493025e-02 -2.61303820e-02  8.58111531e-02\n",
      "   1.14682272e-01 -5.35345674e-02 -5.63588552e-02  4.26009223e-02\n",
      "   1.09454365e-02  2.09579319e-02  1.00131229e-01  3.26051712e-02\n",
      "  -1.84208795e-01 -3.93208675e-02 -6.91455305e-02 -6.38104528e-02\n",
      "  -6.56386167e-02 -6.41249539e-03 -4.79612388e-02 -7.68132880e-02\n",
      "   2.95384545e-02 -2.29948219e-02  4.17036824e-02 -2.50048041e-02\n",
      "  -4.54507209e-03 -4.17136326e-02 -1.32289687e-02 -6.38357550e-02\n",
      "  -2.46468442e-03 -1.37337819e-02  1.68976970e-02 -6.30398169e-02\n",
      "   8.98880810e-02  4.18170989e-02 -1.85687225e-02 -1.80442186e-08\n",
      "  -1.67998485e-02 -3.21577676e-02  6.30383417e-02 -4.13092114e-02\n",
      "   4.44819257e-02  2.02466291e-03  6.29593134e-02 -5.17371157e-03\n",
      "  -1.00444416e-02 -3.05639841e-02  3.52672487e-02  5.58581427e-02\n",
      "  -4.67124768e-02  3.45102511e-02  3.29578221e-02  4.30114344e-02\n",
      "   2.94360872e-02 -3.03164478e-02 -1.71107631e-02  7.37484768e-02\n",
      "  -5.47910407e-02  2.77515240e-02  6.20163837e-03  1.58800688e-02\n",
      "   3.42979096e-02 -5.15749399e-03  2.35079583e-02  7.53135756e-02\n",
      "   1.92843415e-02  3.36196944e-02  5.09104170e-02  1.52497083e-01\n",
      "   1.64207704e-02  2.70528458e-02  3.75162400e-02  2.18553189e-02\n",
      "   5.66333607e-02 -3.95746753e-02  7.12313801e-02 -5.41377440e-02\n",
      "   1.03767437e-03  2.11852640e-02 -3.56309749e-02  1.09016888e-01\n",
      "   2.76533398e-03  3.13997678e-02  1.38414244e-03 -3.45738828e-02\n",
      "  -4.59277332e-02  2.88083460e-02  7.16903945e-03  4.84685004e-02\n",
      "   2.61017978e-02 -9.44074802e-03  2.82169823e-02  3.48724052e-02\n",
      "   3.69098559e-02 -8.58946424e-03 -3.53205800e-02 -2.47856751e-02\n",
      "  -1.91921089e-02  3.80707867e-02  5.99654056e-02 -4.22287770e-02]\n",
      " [ 8.64385962e-02  1.02762640e-01  5.39457612e-03  2.04443163e-03\n",
      "  -9.96338110e-03  2.53855363e-02  4.92875688e-02 -3.06265634e-02\n",
      "   6.87254891e-02  1.01366015e-02  7.75397494e-02 -9.00807008e-02\n",
      "   6.10620296e-03 -5.69898710e-02  1.41714709e-02  2.80491803e-02\n",
      "  -8.68465155e-02  7.64398947e-02 -1.03491321e-01 -6.77438080e-02\n",
      "   6.99946880e-02  8.44251513e-02 -7.24914996e-03  1.04770521e-02\n",
      "   1.34020709e-02  6.77576885e-02 -9.42086205e-02 -3.71689834e-02\n",
      "   5.22617474e-02 -3.10853552e-02 -9.63406563e-02  1.57716554e-02\n",
      "   2.57866774e-02  7.85244852e-02  7.89949745e-02  1.91515759e-02\n",
      "   1.64356269e-02  3.10085737e-03  3.81311439e-02  2.37090811e-02\n",
      "   1.05389506e-02 -4.40644920e-02  4.41738367e-02 -2.58728005e-02\n",
      "   6.15378767e-02 -4.05428000e-02 -8.64140317e-02  3.19722556e-02\n",
      "  -8.90631578e-04 -2.44436897e-02 -9.19721276e-02  2.33939085e-02\n",
      "  -8.30293074e-02  4.41510752e-02 -2.49692462e-02  6.23020269e-02\n",
      "  -1.30355544e-03  7.51395524e-02  2.46384833e-02 -6.47244677e-02\n",
      "  -1.17727749e-01  3.83392274e-02 -9.11767259e-02  6.35446012e-02\n",
      "   7.62739703e-02 -8.80240723e-02  9.54555254e-03 -4.69717756e-02\n",
      "  -8.41740817e-02  3.88823822e-02 -1.14393577e-01  6.28862530e-03\n",
      "  -3.49361636e-02  2.39750650e-02 -3.31317112e-02 -1.57243367e-02\n",
      "  -3.78955603e-02 -8.81250575e-03  7.06119165e-02  3.28066386e-02\n",
      "   2.03668862e-03 -1.12279005e-01  6.79719867e-03  1.22765629e-02\n",
      "   3.35303545e-02 -1.36200842e-02 -2.25490257e-02 -2.25229003e-02\n",
      "  -2.03194916e-02  5.04297353e-02 -7.48652667e-02 -8.22822452e-02\n",
      "   7.65962452e-02  4.93392162e-02 -3.75553519e-02  1.44634778e-02\n",
      "  -5.72457612e-02 -1.79954357e-02  1.09697916e-01  1.19462766e-01\n",
      "   8.09256628e-04  6.17057085e-02  3.26322429e-02 -1.30780101e-01\n",
      "  -1.48636684e-01 -6.16232716e-02  4.33886200e-02  2.67129224e-02\n",
      "   1.39785977e-02 -3.94002348e-02 -2.52711996e-02  3.87740182e-03\n",
      "   3.58664393e-02 -6.15420267e-02  3.76660228e-02  2.67564766e-02\n",
      "  -3.82659249e-02 -3.54793742e-02 -2.39227246e-02  8.67977440e-02\n",
      "  -1.84063166e-02  7.71039277e-02  1.39861985e-03  7.00382814e-02\n",
      "  -4.77877818e-02 -7.89819732e-02  5.10814749e-02 -2.99868297e-33\n",
      "  -3.91646326e-02 -2.56211148e-03  1.65210776e-02  9.48937703e-03\n",
      "  -5.66219278e-02  6.57783002e-02 -4.77002598e-02  1.11661972e-02\n",
      "  -5.73558323e-02 -9.16259922e-03 -2.17520930e-02 -5.59531935e-02\n",
      "  -1.11422669e-02  9.32793170e-02  1.66765079e-02 -1.36723723e-02\n",
      "   4.34388742e-02  1.87241670e-03  7.29952380e-03  5.16331606e-02\n",
      "   4.80607823e-02  1.35341436e-01 -1.71738639e-02 -1.29698245e-02\n",
      "  -7.50110000e-02  2.61108000e-02  2.69802436e-02  7.83068826e-04\n",
      "  -4.87270206e-02  1.17842648e-02 -4.59580235e-02 -4.83213551e-02\n",
      "  -1.95671190e-02  1.93889402e-02  1.98807195e-02  1.67432297e-02\n",
      "   9.87801328e-02 -2.74087396e-02  2.34809071e-02  3.70232668e-03\n",
      "  -6.14514835e-02 -1.21228059e-03 -9.50469356e-03  9.25153494e-03\n",
      "   2.38443781e-02  8.61232281e-02  2.26789732e-02  5.45123941e-04\n",
      "   3.47129516e-02  6.25462923e-03 -6.92777988e-03  3.92400324e-02\n",
      "   1.15675144e-02  3.26280333e-02  6.22155555e-02  2.76114307e-02\n",
      "   1.86883342e-02  3.55806053e-02  4.11795676e-02  1.54781919e-02\n",
      "   4.22691479e-02  3.82248349e-02  1.00313518e-02 -2.83245929e-02\n",
      "   4.47052717e-02 -4.10458632e-02 -4.50548856e-03 -5.44734076e-02\n",
      "   2.62320656e-02  1.79862715e-02 -1.23118743e-01 -4.66951877e-02\n",
      "  -1.35913091e-02  6.46710694e-02  3.57347331e-03 -1.22234020e-02\n",
      "  -1.79382190e-02 -2.55502332e-02  2.37223841e-02  4.08669887e-03\n",
      "  -6.51475787e-02  4.43651564e-02  4.68596295e-02 -3.25174630e-02\n",
      "   4.02271003e-03 -3.97607172e-03  1.11939274e-02 -9.95597690e-02\n",
      "   3.33168544e-02  8.01061019e-02  9.42692235e-02 -6.38294294e-02\n",
      "   3.23151425e-02 -5.13553210e-02 -7.49878678e-03  5.30048403e-34\n",
      "  -4.13194858e-02  9.49647203e-02 -1.06401429e-01  4.96590436e-02\n",
      "  -3.41913141e-02 -3.16745788e-02 -1.71556268e-02  1.70102040e-03\n",
      "   5.79757653e-02 -1.21778494e-03 -1.68536268e-02 -5.16912565e-02\n",
      "   5.52998818e-02 -3.42647694e-02  3.08179688e-02 -3.10480427e-02\n",
      "   9.27532464e-02  3.72663625e-02 -2.37398222e-02  4.45893668e-02\n",
      "   1.46153560e-02  1.16239354e-01 -5.00112846e-02  3.88716571e-02\n",
      "   4.24746750e-03  2.56976485e-02  3.27243991e-02  4.29907665e-02\n",
      "  -1.36144627e-02  2.56122462e-02  1.06262201e-02 -8.46863687e-02\n",
      "  -9.52982083e-02  1.08399920e-01 -7.51599967e-02 -1.37773789e-02\n",
      "   6.37338012e-02 -4.49672947e-03 -3.25321369e-02  6.23613745e-02\n",
      "   3.48053165e-02 -3.54922526e-02 -2.00222488e-02  3.66607942e-02\n",
      "  -2.48837192e-02  1.01818377e-02 -7.01233000e-02 -4.31951396e-02\n",
      "   2.95332391e-02 -2.94891594e-04 -3.45386975e-02  1.46675929e-02\n",
      "  -9.83969867e-02 -4.70488220e-02 -8.85497965e-03 -8.89913812e-02\n",
      "   3.50995772e-02 -1.29601985e-01 -4.98866141e-02 -6.12047203e-02\n",
      "  -5.97797558e-02  9.46320780e-03  4.91217859e-02 -7.75026977e-02\n",
      "   8.09727386e-02 -4.79257479e-02  2.34376569e-03  7.57031441e-02\n",
      "  -2.40175948e-02 -1.52546521e-02  4.86738533e-02 -3.85968350e-02\n",
      "  -7.04831928e-02 -1.20348157e-02 -3.88790704e-02 -7.76017010e-02\n",
      "  -1.07243918e-02  1.04188500e-02 -2.13753860e-02 -9.17386264e-02\n",
      "  -1.11344364e-02 -2.96065845e-02  2.46458389e-02  4.65712789e-03\n",
      "  -1.63449626e-02 -3.95219252e-02  7.73373619e-02 -2.84732692e-02\n",
      "  -3.69941723e-03  8.27665180e-02 -1.10408850e-02  3.13983522e-02\n",
      "   5.35094365e-02  5.75146303e-02 -3.17622125e-02 -1.52911248e-08\n",
      "  -7.99661428e-02 -4.76797260e-02 -8.59788582e-02  5.69616668e-02\n",
      "  -4.08866741e-02  2.23832242e-02 -4.64449031e-03 -3.80130485e-02\n",
      "  -3.10670957e-02 -1.07277669e-02  1.97698753e-02  7.76998373e-03\n",
      "  -6.09470578e-03 -3.86376269e-02  2.80271657e-02  6.78137615e-02\n",
      "  -2.35351678e-02  3.21747400e-02  8.02536588e-03 -2.39107441e-02\n",
      "  -1.21995737e-03  3.14598940e-02 -5.24924099e-02 -8.06813687e-03\n",
      "   3.14775854e-03  5.11496142e-02 -4.44104522e-02  6.36013001e-02\n",
      "   3.85083668e-02  3.30433063e-02 -4.18727379e-03  4.95592691e-02\n",
      "  -5.69605231e-02 -6.49712095e-03 -2.49793176e-02 -1.60867237e-02\n",
      "   6.62289560e-02 -2.06310693e-02  1.08045742e-01  1.68547221e-02\n",
      "   1.43812541e-02 -1.32127311e-02 -1.29387408e-01  6.95216283e-02\n",
      "  -5.55772819e-02 -6.75413236e-02 -5.45820827e-03 -6.13593310e-03\n",
      "   3.90840620e-02 -6.28779605e-02  3.74063365e-02 -1.16571039e-02\n",
      "   1.29150432e-02 -5.52495494e-02  5.16075976e-02 -4.30842303e-03\n",
      "   5.80247976e-02  1.86945125e-02  2.27810331e-02  3.21665667e-02\n",
      "   5.37978858e-02  7.02848881e-02  7.49311969e-02 -8.41775015e-02]]\n"
     ]
    }
   ],
   "source": [
    "sentences = [\"This is an example sentence\", \"Each sentence is converted\"]\n",
    "\n",
    "model = SentenceTransformer('sentence-transformers/all-MiniLM-L6-v2')\n",
    "embeddings = model.encode(sentences)\n",
    "print(embeddings)"
   ]
  },
  {
   "cell_type": "code",
   "execution_count": null,
   "metadata": {},
   "outputs": [],
   "source": []
  }
 ],
 "metadata": {
  "kernelspec": {
   "display_name": "genai",
   "language": "python",
   "name": "python3"
  },
  "language_info": {
   "codemirror_mode": {
    "name": "ipython",
    "version": 3
   },
   "file_extension": ".py",
   "mimetype": "text/x-python",
   "name": "python",
   "nbconvert_exporter": "python",
   "pygments_lexer": "ipython3",
   "version": "3.13.2"
  }
 },
 "nbformat": 4,
 "nbformat_minor": 2
}
